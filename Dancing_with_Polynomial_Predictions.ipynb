{
  "nbformat": 4,
  "nbformat_minor": 0,
  "metadata": {
    "colab": {
      "provenance": [],
      "authorship_tag": "ABX9TyOUjsbJS7NAl3GQAB/yBVkg",
      "include_colab_link": true
    },
    "kernelspec": {
      "name": "python3",
      "display_name": "Python 3"
    },
    "language_info": {
      "name": "python"
    }
  },
  "cells": [
    {
      "cell_type": "markdown",
      "metadata": {
        "id": "view-in-github",
        "colab_type": "text"
      },
      "source": [
        "<a href=\"https://colab.research.google.com/github/Sayed-Hossein-Hosseini/Dancing_with_Polynomial_Predictions/blob/master/Dancing_with_Polynomial_Predictions.ipynb\" target=\"_parent\"><img src=\"https://colab.research.google.com/assets/colab-badge.svg\" alt=\"Open In Colab\"/></a>"
      ]
    },
    {
      "cell_type": "markdown",
      "source": [
        "# **Dancing with Polynomial Predictions**"
      ],
      "metadata": {
        "id": "ON23E6jOj3qD"
      }
    },
    {
      "cell_type": "markdown",
      "source": [
        "## **Libraries**"
      ],
      "metadata": {
        "id": "2k4-7PjhkKx_"
      }
    },
    {
      "cell_type": "code",
      "execution_count": 18,
      "metadata": {
        "id": "MFMQ6GgrjoDU"
      },
      "outputs": [],
      "source": [
        "import gdown\n",
        "import warnings\n",
        "import numpy as np\n",
        "import pandas as pd\n",
        "import seaborn as sns\n",
        "import matplotlib.pyplot as plt\n",
        "from sklearn.model_selection import train_test_split\n",
        "\n",
        "warnings.simplefilter(action='ignore', category=FutureWarning)"
      ]
    },
    {
      "cell_type": "markdown",
      "source": [
        "## **Dataset Description**"
      ],
      "metadata": {
        "id": "Es8IK7CXkVWS"
      }
    },
    {
      "cell_type": "code",
      "source": [
        "# Load the Excel file\n",
        "file_path = 'Polynomial_Functions.xlsx'  # Change the path if needed\n",
        "df = pd.read_excel(file_path, sheet_name='Sheet1')\n",
        "\n",
        "# Display general information about the dataset\n",
        "print(\"🔹 Dataset Information:\")\n",
        "print(df.info())\n",
        "\n",
        "# Check for missing values in each column\n",
        "print(\"\\n🔹 Missing Values Per Column:\")\n",
        "print(df.isnull().sum())\n",
        "\n",
        "# Show descriptive statistics\n",
        "print(\"\\n🔹 Descriptive Statistics:\")\n",
        "print(df.describe())\n",
        "\n",
        "# Count unique values in each column\n",
        "print(\"\\n🔹 Number of Unique Values Per Column:\")\n",
        "print(df.nunique())\n"
      ],
      "metadata": {
        "colab": {
          "base_uri": "https://localhost:8080/"
        },
        "id": "fiVCh7TYkckA",
        "outputId": "7d0cf069-c53d-4b3d-841d-fabe93aeff90"
      },
      "execution_count": 19,
      "outputs": [
        {
          "output_type": "stream",
          "name": "stdout",
          "text": [
            "🔹 Dataset Information:\n",
            "<class 'pandas.core.frame.DataFrame'>\n",
            "RangeIndex: 10000 entries, 0 to 9999\n",
            "Data columns (total 4 columns):\n",
            " #   Column      Non-Null Count  Dtype  \n",
            "---  ------      --------------  -----  \n",
            " 0   x           10000 non-null  float64\n",
            " 1   y           10000 non-null  float64\n",
            " 2   z           10000 non-null  float64\n",
            " 3   F(x, y, z)  10000 non-null  float64\n",
            "dtypes: float64(4)\n",
            "memory usage: 312.6 KB\n",
            "None\n",
            "\n",
            "🔹 Missing Values Per Column:\n",
            "x             0\n",
            "y             0\n",
            "z             0\n",
            "F(x, y, z)    0\n",
            "dtype: int64\n",
            "\n",
            "🔹 Descriptive Statistics:\n",
            "                  x             y             z    F(x, y, z)\n",
            "count  10000.000000  10000.000000  10000.000000  10000.000000\n",
            "mean      -0.116809      0.090598      0.001008     43.803057\n",
            "std        5.752603      5.785891      5.735475    587.941231\n",
            "min       -9.999767     -9.996845     -9.999038  -3191.680304\n",
            "25%       -5.073423     -4.921084     -4.925042   -225.322605\n",
            "50%       -0.149428      0.117936      0.041362     15.622764\n",
            "75%        4.800127      5.129584      4.893477    301.709432\n",
            "max        9.994353      9.998497      9.998020   3508.399526\n",
            "\n",
            "🔹 Number of Unique Values Per Column:\n",
            "x             10000\n",
            "y             10000\n",
            "z             10000\n",
            "F(x, y, z)    10000\n",
            "dtype: int64\n"
          ]
        }
      ]
    },
    {
      "cell_type": "markdown",
      "source": [
        "## **Train/Test Split**"
      ],
      "metadata": {
        "id": "nFjcyGAF2WzS"
      }
    },
    {
      "cell_type": "code",
      "source": [
        "# Separate features and target\n",
        "X = df.drop('F(x, y, z)', axis=1)\n",
        "y = df['F(x, y, z)']\n",
        "\n",
        "# Split into training and test sets (e.g., 80% train, 20% test)\n",
        "X_train, X_test, y_train, y_test = train_test_split(X, y, test_size=0.2, random_state=42)\n",
        "\n",
        "# Display the sizes\n",
        "print(f\"Training set size: {X_train.shape[0]} rows\")\n",
        "print(f\"Test set size: {X_test.shape[0]} rows\")\n"
      ],
      "metadata": {
        "colab": {
          "base_uri": "https://localhost:8080/"
        },
        "id": "lQOELNok2n80",
        "outputId": "6c13b64f-5fbc-4e48-d4f4-56830182d4b2"
      },
      "execution_count": 20,
      "outputs": [
        {
          "output_type": "stream",
          "name": "stdout",
          "text": [
            "Training set size: 8000 rows\n",
            "Test set size: 2000 rows\n"
          ]
        }
      ]
    },
    {
      "cell_type": "markdown",
      "source": [
        "## **Preprocessing**"
      ],
      "metadata": {
        "id": "tWgTmnBI14-a"
      }
    },
    {
      "cell_type": "markdown",
      "source": [
        "### **Remove Outliers**"
      ],
      "metadata": {
        "id": "OfAJ7e9el09S"
      }
    },
    {
      "cell_type": "code",
      "source": [
        "def remove_outliers_auto_xy_with_output(x, y):\n",
        "    \"\"\"\n",
        "    Automatically detect and remove outliers from the training data (x, y) using the IQR method.\n",
        "    Removes rows from both x and y simultaneously when an outlier is detected in either x or y.\n",
        "\n",
        "    Parameters:\n",
        "        x (pd.DataFrame): Input feature DataFrame (training data)\n",
        "        y (pd.Series): Input target Series (labels)\n",
        "\n",
        "    Returns:\n",
        "        pd.DataFrame, pd.Series: Cleaned feature DataFrame and target Series with outliers removed\n",
        "    \"\"\"\n",
        "    initial_shape = x.shape\n",
        "    print(f\"🔹 Initial dataset size: {initial_shape[0]} rows, {initial_shape[1]} columns (x), {y.shape[0]} rows (y)\\n\")\n",
        "\n",
        "    # For numeric columns in x\n",
        "    numeric_cols_x = x.select_dtypes(include='number').columns\n",
        "    x_clean = x.copy()\n",
        "    y_clean = y.copy()\n",
        "\n",
        "    # Remove outliers from x\n",
        "    for col in numeric_cols_x:\n",
        "        Q1 = x[col].quantile(0.25)\n",
        "        Q3 = x[col].quantile(0.75)\n",
        "        IQR = Q3 - Q1\n",
        "        lower_bound = Q1 - 1.5 * IQR\n",
        "        upper_bound = Q3 + 1.5 * IQR\n",
        "\n",
        "        before = x_clean.shape[0]\n",
        "        mask = (x_clean[col] >= lower_bound) & (x_clean[col] <= upper_bound)\n",
        "\n",
        "        # Apply the same mask to both x and y\n",
        "        x_clean = x_clean[mask]\n",
        "        y_clean = y_clean[mask]\n",
        "\n",
        "        after = x_clean.shape[0]\n",
        "        removed = before - after\n",
        "\n",
        "        if removed > 0:\n",
        "            print(f\"🟠 Removed {removed} outliers from column '{col}' in x\")\n",
        "        else:\n",
        "            print(f\"✅ No outliers detected in column '{col}' in x\")\n",
        "\n",
        "    # For the target variable y\n",
        "    Q1_y = y_clean.quantile(0.25)\n",
        "    Q3_y = y_clean.quantile(0.75)\n",
        "    IQR_y = Q3_y - Q1_y\n",
        "    lower_bound_y = Q1_y - 1.5 * IQR_y\n",
        "    upper_bound_y = Q3_y + 1.5 * IQR_y\n",
        "\n",
        "    before_y = y_clean.shape[0]\n",
        "    y_mask = (y_clean >= lower_bound_y) & (y_clean <= upper_bound_y)\n",
        "\n",
        "    # Apply the same mask to both x and y\n",
        "    x_clean = x_clean[y_mask]\n",
        "    y_clean = y_clean[y_mask]\n",
        "\n",
        "    after_y = x_clean.shape[0]\n",
        "    removed_y = before_y - after_y\n",
        "\n",
        "    if removed_y > 0:\n",
        "        print(f\"🟠 Removed {removed_y} outliers from target variable y\")\n",
        "    else:\n",
        "        print(f\"✅ No outliers detected in target variable y\")\n",
        "\n",
        "    print(f\"\\n✅ Final dataset size: {x_clean.shape[0]} rows (removed {initial_shape[0] - x_clean.shape[0]} total rows)\")\n",
        "    return x_clean, y_clean\n",
        "\n",
        "# Example usage:\n",
        "X_train_clean, y_train_clean = remove_outliers_auto_xy_with_output(X_train, y_train)\n"
      ],
      "metadata": {
        "colab": {
          "base_uri": "https://localhost:8080/"
        },
        "id": "DnyNSg5nl1S9",
        "outputId": "a21ce5a5-cc14-4db8-fd22-c9bc0f5b947b"
      },
      "execution_count": 21,
      "outputs": [
        {
          "output_type": "stream",
          "name": "stdout",
          "text": [
            "🔹 Initial dataset size: 8000 rows, 3 columns (x), 8000 rows (y)\n",
            "\n",
            "✅ No outliers detected in column 'x' in x\n",
            "✅ No outliers detected in column 'y' in x\n",
            "✅ No outliers detected in column 'z' in x\n",
            "🟠 Removed 603 outliers from target variable y\n",
            "\n",
            "✅ Final dataset size: 7397 rows (removed 603 total rows)\n"
          ]
        }
      ]
    },
    {
      "cell_type": "markdown",
      "source": [
        "### **Normalize Data**"
      ],
      "metadata": {
        "id": "5YmR6zxoEftY"
      }
    },
    {
      "cell_type": "code",
      "source": [
        "def normalize_data(X_train, X_test, y_train, y_test):\n",
        "    \"\"\"\n",
        "    This function normalizes the training and test features (X) and outputs (y).\n",
        "\n",
        "    Parameters:\n",
        "        X_train (numpy array): Training features\n",
        "        X_test (numpy array): Test features\n",
        "        y_train (numpy array): Training outputs\n",
        "        y_test (numpy array): Test outputs\n",
        "\n",
        "    Returns:\n",
        "        X_train_normalized (numpy array): Normalized training features\n",
        "        X_test_normalized (numpy array): Normalized test features\n",
        "        y_train_normalized (numpy array): Normalized training outputs\n",
        "        y_test_normalized (numpy array): Normalized test outputs\n",
        "        feature_scaler (dict): Feature normalization parameters (mean, std)\n",
        "        output_scaler (dict): Output normalization parameters (mean, std)\n",
        "    \"\"\"\n",
        "    # Step 1: Normalize features\n",
        "    feature_mean = np.mean(X_train, axis=0)  # Mean of each feature in X_train\n",
        "    feature_std = np.std(X_train, axis=0)    # Standard deviation of each feature in X_train\n",
        "    X_train_normalized = (X_train - feature_mean) / feature_std\n",
        "    X_test_normalized = (X_test - feature_mean) / feature_std\n",
        "\n",
        "    # Step 2: Normalize outputs\n",
        "    output_mean = np.mean(y_train)  # Mean of y_train\n",
        "    output_std = np.std(y_train)    # Standard deviation of y_train\n",
        "    y_train_normalized = (y_train - output_mean) / output_std\n",
        "    y_test_normalized = (y_test - output_mean) / output_std\n",
        "\n",
        "    # Store normalization parameters for later use (e.g., denormalization)\n",
        "    feature_scaler = {\"mean\": feature_mean, \"std\": feature_std}\n",
        "    output_scaler = {\"mean\": output_mean, \"std\": output_std}\n",
        "\n",
        "    return X_train_normalized, X_test_normalized, y_train_normalized, y_test_normalized, feature_scaler, output_scaler\n",
        "\n",
        "# Example usage\n",
        "# Assume you have the following datasets\n",
        "# X_train = np.array([\n",
        "#     [-2.5092, -2.52718, 4.59997],\n",
        "#     [9.01429, -3.34176, -6.30976],\n",
        "#     [4.63988, -6.47692, -3.06721],\n",
        "#     [1.97137, 2.14533, 3.26561],\n",
        "#     [-6.87963, -0.46752, -0.35821]\n",
        "# ])\n",
        "\n",
        "# X_test = np.array([\n",
        "#     [-6.88011, 7.31402, 4.77142],\n",
        "#     [-8.83833, -9.35781, 9.22416]\n",
        "# ])\n",
        "\n",
        "# y_train = np.array([100, 200, 300, 400, 500])\n",
        "# y_test = np.array([600, 700])\n",
        "\n",
        "# Normalize the data\n",
        "X_train_norm, X_test_norm, y_train_norm, y_test_norm, feature_scaler, output_scaler = normalize_data(X_train, X_test, y_train, y_test)\n",
        "\n",
        "# print(y_train_clean.head())\n",
        "# Display normalized data\n",
        "print(\"Normalized Training Features (X_train):\")\n",
        "print(X_train_norm.head())\n",
        "print(\"\\nNormalized Testing Features (X_test):\")\n",
        "print(X_test_norm.head())\n",
        "print(\"\\nNormalized Training Outputs (y_train):\")\n",
        "print(y_train_norm.head())\n",
        "print(\"\\nNormalized Testing Outputs (y_test):\")\n",
        "print(y_test_norm.head())\n",
        "\n",
        "# Denormalize outputs (example)\n",
        "def denormalize(data, scaler):\n",
        "    return data * scaler[\"std\"] + scaler[\"mean\"]\n",
        "\n",
        "# Example: Denormalize y_train_normalized\n",
        "y_train_denormalized = denormalize(y_train_norm, output_scaler)\n",
        "print(\"\\nDenormalized Training Outputs (y_train):\")\n",
        "print(y_train_denormalized.head())"
      ],
      "metadata": {
        "colab": {
          "base_uri": "https://localhost:8080/"
        },
        "id": "DHDX3OOLEf9g",
        "outputId": "7c33c359-a5a1-460f-f80f-e48361a83a54"
      },
      "execution_count": 22,
      "outputs": [
        {
          "output_type": "stream",
          "name": "stdout",
          "text": [
            "Normalized Training Features (X_train):\n",
            "             x         y         z\n",
            "9254  0.965060 -1.228372  1.562923\n",
            "1561 -0.890078 -0.860177 -1.131713\n",
            "1670 -0.390623 -0.574062 -0.080309\n",
            "6087 -0.997376  1.267594  1.060011\n",
            "6669 -1.260285 -0.533248 -1.294791\n",
            "\n",
            "Normalized Testing Features (X_test):\n",
            "             x         y         z\n",
            "6252 -0.540530 -1.400651  1.631321\n",
            "4684  0.981357  0.986216 -1.062414\n",
            "1731  0.454605 -1.014799  1.702356\n",
            "4742 -1.589408  1.043178 -1.295144\n",
            "4521  0.292076  1.511960 -0.506691\n",
            "\n",
            "Normalized Training Outputs (y_train):\n",
            "9254    0.194677\n",
            "1561   -1.257305\n",
            "1670   -0.120382\n",
            "6087    0.680989\n",
            "6669   -1.802561\n",
            "Name: F(x, y, z), dtype: float64\n",
            "\n",
            "Normalized Testing Outputs (y_test):\n",
            "6252   -1.117454\n",
            "4684    0.614837\n",
            "1731    0.014081\n",
            "4742   -0.687773\n",
            "4521    0.518643\n",
            "Name: F(x, y, z), dtype: float64\n",
            "\n",
            "Denormalized Training Outputs (y_train):\n",
            "9254     154.530442\n",
            "1561    -701.158409\n",
            "1670     -31.142075\n",
            "6087     441.126098\n",
            "6669   -1022.491378\n",
            "Name: F(x, y, z), dtype: float64\n"
          ]
        }
      ]
    },
    {
      "cell_type": "markdown",
      "source": [
        "## **Feature Engineering**"
      ],
      "metadata": {
        "id": "6KUU7Zjf37wB"
      }
    },
    {
      "cell_type": "code",
      "source": [
        "def feature_engineering(df):\n",
        "    \"\"\"\n",
        "    This function takes a DataFrame with columns x, y, z as inputs\n",
        "    and returns a feature matrix phi(x, y, z).\n",
        "\n",
        "    The DataFrame must contain the columns 'x', 'y', and 'z'.\n",
        "    \"\"\"\n",
        "    x = df['x']\n",
        "    y = df['y']\n",
        "    z = df['z']\n",
        "\n",
        "    # Compute all the required terms\n",
        "    phi = pd.DataFrame({\n",
        "        # 'bias': 1,\n",
        "        'x': x,\n",
        "        'x2': x**2,\n",
        "        'x3': x**3,\n",
        "        'y': y,\n",
        "        'y2': y**2,\n",
        "        'y3': y**3,\n",
        "        'z': z,\n",
        "        'z2': z**2,\n",
        "        'z3': z**3,\n",
        "        'xy': x * y,\n",
        "        'x2y': x**2 * y,\n",
        "        'xy2': x * y**2,\n",
        "        'xz': x * z,\n",
        "        'x2z': x**2 * z,\n",
        "        'xz2': x * z**2,\n",
        "        'yz': y * z,\n",
        "        'y2z': y**2 * z,\n",
        "        'yz2': y * z**2,\n",
        "        'xyz': x * y * z\n",
        "    })\n",
        "\n",
        "    return phi\n",
        "\n",
        "# Example usage:\n",
        "# Assuming X_train_norm and X_test_norm are DataFrames with columns 'x', 'y', 'z'\n",
        "X_train_vector = feature_engineering(X_train_norm)\n",
        "X_test_vector = feature_engineering(X_test_norm)\n",
        "\n",
        "print(\"Feature Vector (Train):\")\n",
        "print(X_train_vector.head())\n",
        "print(\"Feature Vector (Test):\")\n",
        "print(X_test_vector.head())"
      ],
      "metadata": {
        "colab": {
          "base_uri": "https://localhost:8080/"
        },
        "id": "2DxOfDji4ADD",
        "outputId": "507dbac8-5f3b-4616-f250-3d282871520e"
      },
      "execution_count": 23,
      "outputs": [
        {
          "output_type": "stream",
          "name": "stdout",
          "text": [
            "Feature Vector (Train):\n",
            "             x        x2        x3         y        y2        y3         z  \\\n",
            "9254  0.965060  0.931340  0.898799 -1.228372  1.508898 -1.853487  1.562923   \n",
            "1561 -0.890078  0.792239 -0.705154 -0.860177  0.739904 -0.636448 -1.131713   \n",
            "1670 -0.390623  0.152586 -0.059604 -0.574062  0.329547 -0.189180 -0.080309   \n",
            "6087 -0.997376  0.994759 -0.992148  1.267594  1.606796  2.036765  1.060011   \n",
            "6669 -1.260285  1.588318 -2.001733 -0.533248  0.284353 -0.151631 -1.294791   \n",
            "\n",
            "            z2        z3        xy       x2y       xy2        xz       x2z  \\\n",
            "9254  2.442728  3.817795 -1.185452 -1.144032  1.456176  1.508314  1.455613   \n",
            "1561  1.280774 -1.449469  0.765624 -0.681465 -0.658572  1.007313 -0.896587   \n",
            "1670  0.006450 -0.000518  0.224241 -0.087594 -0.128728  0.031371 -0.012254   \n",
            "6087  1.123624  1.191054 -1.264268  1.260951 -1.602579 -1.057230  1.054455   \n",
            "6669  1.676484 -2.170697  0.672044 -0.846967 -0.358366  1.631806 -2.056540   \n",
            "\n",
            "           xz2        yz       y2z       yz2       xyz  \n",
            "9254  2.357378 -1.919851  2.358291 -3.000578 -1.852771  \n",
            "1561 -1.139989  0.973473 -0.837359 -1.101692 -0.866467  \n",
            "1670 -0.002519  0.046102 -0.026466 -0.003702 -0.018009  \n",
            "6087 -1.120675  1.343664  1.703222  1.424299 -1.340138  \n",
            "6669 -2.112848  0.690445 -0.368178 -0.893982 -0.870157  \n",
            "Feature Vector (Test):\n",
            "             x        x2        x3         y        y2        y3         z  \\\n",
            "6252 -0.540530  0.292173 -0.157928 -1.400651  1.961824 -2.747831  1.631321   \n",
            "4684  0.981357  0.963062  0.945108  0.986216  0.972622  0.959215 -1.062414   \n",
            "1731  0.454605  0.206665  0.093951 -1.014799  1.029818 -1.045059  1.702356   \n",
            "4742 -1.589408  2.526216 -4.015187  1.043178  1.088220  1.135207 -1.295144   \n",
            "4521  0.292076  0.085309  0.024917  1.511960  2.286023  3.456374 -0.506691   \n",
            "\n",
            "            z2        z3        xy       x2y       xy2        xz       x2z  \\\n",
            "6252  2.661210  4.341288  0.757094 -0.409232 -1.060425 -0.881779  0.476628   \n",
            "4684  1.128723 -1.199171  0.967830  0.949788  0.954490 -1.042608 -1.023171   \n",
            "1731  2.898017  4.933457 -0.461333 -0.209724  0.468160  0.773899  0.351818   \n",
            "4742  1.677398 -2.172472 -1.658035  2.635293 -1.729625  2.058512 -3.271814   \n",
            "4521  0.256736 -0.130086  0.441608  0.128983  0.667693 -0.147993 -0.043225   \n",
            "\n",
            "           xz2        yz       y2z       yz2       xyz  \n",
            "6252 -1.438465 -2.284912  3.200365 -3.727427  1.235064  \n",
            "4684  1.107681 -1.047769 -1.033327  1.113165 -1.028236  \n",
            "1731  1.317452 -1.727550  1.753117 -2.940906 -0.785352  \n",
            "4742 -2.666069 -1.351066 -1.409402  1.749825  2.147394  \n",
            "4521  0.074987 -0.766097 -1.158308  0.388175 -0.223759  \n"
          ]
        }
      ]
    },
    {
      "cell_type": "markdown",
      "source": [
        "## **Model Implementation**"
      ],
      "metadata": {
        "id": "ugwIaI4BLiQh"
      }
    },
    {
      "cell_type": "code",
      "source": [
        "# Mean Squared Error (manual implementation)\n",
        "def mse_loss(y_true, y_pred):\n",
        "    return np.mean((y_true - y_pred) ** 2)\n",
        "\n",
        "# Linear regression training function\n",
        "def linear_regression(X_train, y_train, X_test, y_test, learning_rate=0.01, epochs=100):\n",
        "    n_samples, n_features = X_train.shape\n",
        "    weights = np.zeros(n_features)\n",
        "    bias = 0\n",
        "    train_losses = []\n",
        "    test_losses = []\n",
        "\n",
        "    for epoch in range(epochs):\n",
        "        # Forward pass - prediction on training data\n",
        "        y_pred_train = np.dot(X_train, weights) + bias\n",
        "\n",
        "        # Compute training loss\n",
        "        train_loss = mse_loss(y_train, y_pred_train)\n",
        "        train_losses.append(train_loss)\n",
        "\n",
        "        # Backward pass - gradients\n",
        "        error = y_pred_train - y_train\n",
        "        dw = (2 / n_samples) * np.dot(X_train.T, error)\n",
        "        db = (2 / n_samples) * np.sum(error)\n",
        "\n",
        "        # Update weights and bias\n",
        "        weights -= learning_rate * dw\n",
        "        bias -= learning_rate * db\n",
        "\n",
        "        # Evaluate test loss\n",
        "        y_pred_test = np.dot(X_test, weights) + bias\n",
        "        test_loss = mse_loss(y_test, y_pred_test)\n",
        "        test_losses.append(test_loss)\n",
        "\n",
        "        # Print progress\n",
        "        print(f\"Epoch {epoch+1}/{epochs} - Train Loss: {train_loss:.4f} - Test Loss: {test_loss:.4f}\")\n",
        "\n",
        "    return weights, bias, train_losses, test_losses\n",
        "\n",
        "\n",
        "weights, bias, train_losses, test_losses = linear_regression(X_train_vector, y_train_norm, X_test_vector, y_test_norm, learning_rate=0.01, epochs=100)\n",
        "\n",
        "print(\"\\n🔹 Final Weights:\", weights)\n",
        "print(\"🔹 Final Bias:\", bias)\n",
        "print(f\"\\n✅ Final Train MSE: {train_losses[-1]:.4f}\")\n",
        "print(f\"✅ Final Test MSE: {test_losses[-1]:.4f}\")\n",
        "\n",
        "# === Plot learning curves ===\n",
        "plt.figure(figsize=(10, 6))\n",
        "plt.plot(train_losses, label=\"Train Loss\", linewidth=2)\n",
        "plt.plot(test_losses, label=\"Test Loss\", linewidth=2)\n",
        "plt.xlabel(\"Epoch\")\n",
        "plt.ylabel(\"MSE Loss\")\n",
        "plt.title(\"Learning Curve - Train vs Test\")\n",
        "plt.legend()\n",
        "plt.grid(True)\n",
        "plt.show()\n",
        "\n"
      ],
      "metadata": {
        "colab": {
          "base_uri": "https://localhost:8080/",
          "height": 1000
        },
        "id": "4VY6oyPeLpBE",
        "outputId": "1b3cfc2d-cf65-47e3-adc8-9eee03fb2446"
      },
      "execution_count": 25,
      "outputs": [
        {
          "output_type": "stream",
          "name": "stdout",
          "text": [
            "Epoch 1/100 - Train Loss: 1.0000 - Test Loss: 0.7510\n",
            "Epoch 2/100 - Train Loss: 0.7731 - Test Loss: 0.5810\n",
            "Epoch 3/100 - Train Loss: 0.6012 - Test Loss: 0.4525\n",
            "Epoch 4/100 - Train Loss: 0.4709 - Test Loss: 0.3555\n",
            "Epoch 5/100 - Train Loss: 0.3719 - Test Loss: 0.2821\n",
            "Epoch 6/100 - Train Loss: 0.2966 - Test Loss: 0.2265\n",
            "Epoch 7/100 - Train Loss: 0.2393 - Test Loss: 0.1844\n",
            "Epoch 8/100 - Train Loss: 0.1955 - Test Loss: 0.1523\n",
            "Epoch 9/100 - Train Loss: 0.1620 - Test Loss: 0.1279\n",
            "Epoch 10/100 - Train Loss: 0.1363 - Test Loss: 0.1093\n",
            "Epoch 11/100 - Train Loss: 0.1165 - Test Loss: 0.0949\n",
            "Epoch 12/100 - Train Loss: 0.1011 - Test Loss: 0.0838\n",
            "Epoch 13/100 - Train Loss: 0.0891 - Test Loss: 0.0752\n",
            "Epoch 14/100 - Train Loss: 0.0796 - Test Loss: 0.0684\n",
            "Epoch 15/100 - Train Loss: 0.0721 - Test Loss: 0.0630\n",
            "Epoch 16/100 - Train Loss: 0.0661 - Test Loss: 0.0586\n",
            "Epoch 17/100 - Train Loss: 0.0612 - Test Loss: 0.0550\n",
            "Epoch 18/100 - Train Loss: 0.0572 - Test Loss: 0.0521\n",
            "Epoch 19/100 - Train Loss: 0.0539 - Test Loss: 0.0496\n",
            "Epoch 20/100 - Train Loss: 0.0510 - Test Loss: 0.0474\n",
            "Epoch 21/100 - Train Loss: 0.0486 - Test Loss: 0.0455\n",
            "Epoch 22/100 - Train Loss: 0.0464 - Test Loss: 0.0438\n",
            "Epoch 23/100 - Train Loss: 0.0446 - Test Loss: 0.0423\n",
            "Epoch 24/100 - Train Loss: 0.0429 - Test Loss: 0.0409\n",
            "Epoch 25/100 - Train Loss: 0.0413 - Test Loss: 0.0396\n",
            "Epoch 26/100 - Train Loss: 0.0399 - Test Loss: 0.0384\n",
            "Epoch 27/100 - Train Loss: 0.0386 - Test Loss: 0.0372\n",
            "Epoch 28/100 - Train Loss: 0.0373 - Test Loss: 0.0361\n",
            "Epoch 29/100 - Train Loss: 0.0361 - Test Loss: 0.0351\n",
            "Epoch 30/100 - Train Loss: 0.0350 - Test Loss: 0.0341\n",
            "Epoch 31/100 - Train Loss: 0.0340 - Test Loss: 0.0331\n",
            "Epoch 32/100 - Train Loss: 0.0330 - Test Loss: 0.0322\n",
            "Epoch 33/100 - Train Loss: 0.0320 - Test Loss: 0.0312\n",
            "Epoch 34/100 - Train Loss: 0.0311 - Test Loss: 0.0304\n",
            "Epoch 35/100 - Train Loss: 0.0302 - Test Loss: 0.0295\n",
            "Epoch 36/100 - Train Loss: 0.0293 - Test Loss: 0.0287\n",
            "Epoch 37/100 - Train Loss: 0.0285 - Test Loss: 0.0279\n",
            "Epoch 38/100 - Train Loss: 0.0277 - Test Loss: 0.0271\n",
            "Epoch 39/100 - Train Loss: 0.0269 - Test Loss: 0.0263\n",
            "Epoch 40/100 - Train Loss: 0.0261 - Test Loss: 0.0256\n",
            "Epoch 41/100 - Train Loss: 0.0254 - Test Loss: 0.0249\n",
            "Epoch 42/100 - Train Loss: 0.0247 - Test Loss: 0.0242\n",
            "Epoch 43/100 - Train Loss: 0.0240 - Test Loss: 0.0235\n",
            "Epoch 44/100 - Train Loss: 0.0233 - Test Loss: 0.0229\n",
            "Epoch 45/100 - Train Loss: 0.0227 - Test Loss: 0.0222\n",
            "Epoch 46/100 - Train Loss: 0.0220 - Test Loss: 0.0216\n",
            "Epoch 47/100 - Train Loss: 0.0214 - Test Loss: 0.0210\n",
            "Epoch 48/100 - Train Loss: 0.0208 - Test Loss: 0.0204\n",
            "Epoch 49/100 - Train Loss: 0.0203 - Test Loss: 0.0199\n",
            "Epoch 50/100 - Train Loss: 0.0197 - Test Loss: 0.0193\n",
            "Epoch 51/100 - Train Loss: 0.0192 - Test Loss: 0.0188\n",
            "Epoch 52/100 - Train Loss: 0.0186 - Test Loss: 0.0183\n",
            "Epoch 53/100 - Train Loss: 0.0181 - Test Loss: 0.0178\n",
            "Epoch 54/100 - Train Loss: 0.0176 - Test Loss: 0.0173\n",
            "Epoch 55/100 - Train Loss: 0.0172 - Test Loss: 0.0168\n",
            "Epoch 56/100 - Train Loss: 0.0167 - Test Loss: 0.0164\n",
            "Epoch 57/100 - Train Loss: 0.0162 - Test Loss: 0.0159\n",
            "Epoch 58/100 - Train Loss: 0.0158 - Test Loss: 0.0155\n",
            "Epoch 59/100 - Train Loss: 0.0154 - Test Loss: 0.0151\n",
            "Epoch 60/100 - Train Loss: 0.0150 - Test Loss: 0.0147\n",
            "Epoch 61/100 - Train Loss: 0.0146 - Test Loss: 0.0143\n",
            "Epoch 62/100 - Train Loss: 0.0142 - Test Loss: 0.0139\n",
            "Epoch 63/100 - Train Loss: 0.0138 - Test Loss: 0.0135\n",
            "Epoch 64/100 - Train Loss: 0.0134 - Test Loss: 0.0131\n",
            "Epoch 65/100 - Train Loss: 0.0131 - Test Loss: 0.0128\n",
            "Epoch 66/100 - Train Loss: 0.0127 - Test Loss: 0.0125\n",
            "Epoch 67/100 - Train Loss: 0.0124 - Test Loss: 0.0121\n",
            "Epoch 68/100 - Train Loss: 0.0121 - Test Loss: 0.0118\n",
            "Epoch 69/100 - Train Loss: 0.0118 - Test Loss: 0.0115\n",
            "Epoch 70/100 - Train Loss: 0.0115 - Test Loss: 0.0112\n",
            "Epoch 71/100 - Train Loss: 0.0112 - Test Loss: 0.0109\n",
            "Epoch 72/100 - Train Loss: 0.0109 - Test Loss: 0.0106\n",
            "Epoch 73/100 - Train Loss: 0.0106 - Test Loss: 0.0103\n",
            "Epoch 74/100 - Train Loss: 0.0103 - Test Loss: 0.0101\n",
            "Epoch 75/100 - Train Loss: 0.0101 - Test Loss: 0.0098\n",
            "Epoch 76/100 - Train Loss: 0.0098 - Test Loss: 0.0096\n",
            "Epoch 77/100 - Train Loss: 0.0096 - Test Loss: 0.0093\n",
            "Epoch 78/100 - Train Loss: 0.0093 - Test Loss: 0.0091\n",
            "Epoch 79/100 - Train Loss: 0.0091 - Test Loss: 0.0089\n",
            "Epoch 80/100 - Train Loss: 0.0089 - Test Loss: 0.0086\n",
            "Epoch 81/100 - Train Loss: 0.0086 - Test Loss: 0.0084\n",
            "Epoch 82/100 - Train Loss: 0.0084 - Test Loss: 0.0082\n",
            "Epoch 83/100 - Train Loss: 0.0082 - Test Loss: 0.0080\n",
            "Epoch 84/100 - Train Loss: 0.0080 - Test Loss: 0.0078\n",
            "Epoch 85/100 - Train Loss: 0.0078 - Test Loss: 0.0076\n",
            "Epoch 86/100 - Train Loss: 0.0076 - Test Loss: 0.0074\n",
            "Epoch 87/100 - Train Loss: 0.0075 - Test Loss: 0.0072\n",
            "Epoch 88/100 - Train Loss: 0.0073 - Test Loss: 0.0071\n",
            "Epoch 89/100 - Train Loss: 0.0071 - Test Loss: 0.0069\n",
            "Epoch 90/100 - Train Loss: 0.0069 - Test Loss: 0.0067\n",
            "Epoch 91/100 - Train Loss: 0.0068 - Test Loss: 0.0066\n",
            "Epoch 92/100 - Train Loss: 0.0066 - Test Loss: 0.0064\n",
            "Epoch 93/100 - Train Loss: 0.0064 - Test Loss: 0.0063\n",
            "Epoch 94/100 - Train Loss: 0.0063 - Test Loss: 0.0061\n",
            "Epoch 95/100 - Train Loss: 0.0062 - Test Loss: 0.0060\n",
            "Epoch 96/100 - Train Loss: 0.0060 - Test Loss: 0.0058\n",
            "Epoch 97/100 - Train Loss: 0.0059 - Test Loss: 0.0057\n",
            "Epoch 98/100 - Train Loss: 0.0057 - Test Loss: 0.0056\n",
            "Epoch 99/100 - Train Loss: 0.0056 - Test Loss: 0.0054\n",
            "Epoch 100/100 - Train Loss: 0.0055 - Test Loss: 0.0053\n",
            "\n",
            "🔹 Final Weights: [ 0.05476089  0.03485465  0.08325748  0.08092822  0.00100816  0.13110578\n",
            "  0.04584024 -0.0086498   0.07105018  0.00423084  0.21124317  0.04540577\n",
            "  0.00167128  0.16615598  0.23666744  0.01550798  0.03237531  0.168108\n",
            "  0.0551102 ]\n",
            "🔹 Final Bias: -0.016805852430877913\n",
            "\n",
            "✅ Final Train MSE: 0.0055\n",
            "✅ Final Test MSE: 0.0053\n"
          ]
        },
        {
          "output_type": "display_data",
          "data": {
            "text/plain": [
              "<Figure size 1000x600 with 1 Axes>"
            ],
            "image/png": "[encoded data removed]"
          },
          "metadata": {}
        }
      ]
    }
  ]
}