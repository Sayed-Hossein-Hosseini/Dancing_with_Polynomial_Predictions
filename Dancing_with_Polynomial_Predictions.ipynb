{
  "nbformat": 4,
  "nbformat_minor": 0,
  "metadata": {
    "colab": {
      "provenance": [],
      "authorship_tag": "ABX9TyP/npqmt2ziOvKDzQ5pbyk6",
      "include_colab_link": true
    },
    "kernelspec": {
      "name": "python3",
      "display_name": "Python 3"
    },
    "language_info": {
      "name": "python"
    }
  },
  "cells": [
    {
      "cell_type": "markdown",
      "metadata": {
        "id": "view-in-github",
        "colab_type": "text"
      },
      "source": [
        "<a href=\"https://colab.research.google.com/github/Sayed-Hossein-Hosseini/Dancing_with_Polynomial_Predictions/blob/master/Dancing_with_Polynomial_Predictions.ipynb\" target=\"_parent\"><img src=\"https://colab.research.google.com/assets/colab-badge.svg\" alt=\"Open In Colab\"/></a>"
      ]
    },
    {
      "cell_type": "markdown",
      "source": [
        "# **Dancing with Polynomial Predictions**"
      ],
      "metadata": {
        "id": "ON23E6jOj3qD"
      }
    },
    {
      "cell_type": "markdown",
      "source": [
        "## **Libraries**"
      ],
      "metadata": {
        "id": "2k4-7PjhkKx_"
      }
    },
    {
      "cell_type": "code",
      "execution_count": 1,
      "metadata": {
        "id": "MFMQ6GgrjoDU"
      },
      "outputs": [],
      "source": [
        "import gdown\n",
        "import warnings\n",
        "import numpy as np\n",
        "import pandas as pd\n",
        "import seaborn as sns\n",
        "import matplotlib.pyplot as plt\n",
        "from sklearn.model_selection import train_test_split\n",
        "\n",
        "warnings.simplefilter(action='ignore', category=FutureWarning)"
      ]
    },
    {
      "cell_type": "markdown",
      "source": [
        "## **Dataset Description**"
      ],
      "metadata": {
        "id": "Es8IK7CXkVWS"
      }
    },
    {
      "cell_type": "code",
      "source": [
        "# Load the Excel file\n",
        "file_path = 'Polynomial_Functions.xlsx'  # Change the path if needed\n",
        "df = pd.read_excel(file_path, sheet_name='Sheet1')\n",
        "\n",
        "# Display general information about the dataset\n",
        "print(\"🔹 Dataset Information:\")\n",
        "print(df.info())\n",
        "\n",
        "# Check for missing values in each column\n",
        "print(\"\\n🔹 Missing Values Per Column:\")\n",
        "print(df.isnull().sum())\n",
        "\n",
        "# Show descriptive statistics\n",
        "print(\"\\n🔹 Descriptive Statistics:\")\n",
        "print(df.describe())\n",
        "\n",
        "# Count unique values in each column\n",
        "print(\"\\n🔹 Number of Unique Values Per Column:\")\n",
        "print(df.nunique())\n"
      ],
      "metadata": {
        "colab": {
          "base_uri": "https://localhost:8080/"
        },
        "id": "fiVCh7TYkckA",
        "outputId": "89a96bcd-eae1-49b7-a397-e658183d91a5"
      },
      "execution_count": 2,
      "outputs": [
        {
          "output_type": "stream",
          "name": "stdout",
          "text": [
            "🔹 Dataset Information:\n",
            "<class 'pandas.core.frame.DataFrame'>\n",
            "RangeIndex: 10000 entries, 0 to 9999\n",
            "Data columns (total 4 columns):\n",
            " #   Column      Non-Null Count  Dtype  \n",
            "---  ------      --------------  -----  \n",
            " 0   x           10000 non-null  float64\n",
            " 1   y           10000 non-null  float64\n",
            " 2   z           10000 non-null  float64\n",
            " 3   F(x, y, z)  10000 non-null  float64\n",
            "dtypes: float64(4)\n",
            "memory usage: 312.6 KB\n",
            "None\n",
            "\n",
            "🔹 Missing Values Per Column:\n",
            "x             0\n",
            "y             0\n",
            "z             0\n",
            "F(x, y, z)    0\n",
            "dtype: int64\n",
            "\n",
            "🔹 Descriptive Statistics:\n",
            "                  x             y             z    F(x, y, z)\n",
            "count  10000.000000  10000.000000  10000.000000  10000.000000\n",
            "mean      -0.116809      0.090598      0.001008     43.803057\n",
            "std        5.752603      5.785891      5.735475    587.941231\n",
            "min       -9.999767     -9.996845     -9.999038  -3191.680304\n",
            "25%       -5.073423     -4.921084     -4.925042   -225.322605\n",
            "50%       -0.149428      0.117936      0.041362     15.622764\n",
            "75%        4.800127      5.129584      4.893477    301.709432\n",
            "max        9.994353      9.998497      9.998020   3508.399526\n",
            "\n",
            "🔹 Number of Unique Values Per Column:\n",
            "x             10000\n",
            "y             10000\n",
            "z             10000\n",
            "F(x, y, z)    10000\n",
            "dtype: int64\n"
          ]
        }
      ]
    },
    {
      "cell_type": "markdown",
      "source": [
        "## **Train/Test Split**"
      ],
      "metadata": {
        "id": "nFjcyGAF2WzS"
      }
    },
    {
      "cell_type": "code",
      "source": [
        "# Separate features and target\n",
        "X = df.drop('F(x, y, z)', axis=1)\n",
        "y = df['F(x, y, z)']\n",
        "\n",
        "# Split into training and test sets (e.g., 80% train, 20% test)\n",
        "X_train, X_test, y_train, y_test = train_test_split(X, y, test_size=0.2, random_state=42)\n",
        "\n",
        "# Display the sizes\n",
        "print(f\"Training set size: {X_train.shape[0]} rows\")\n",
        "print(f\"Test set size: {X_test.shape[0]} rows\")\n"
      ],
      "metadata": {
        "colab": {
          "base_uri": "https://localhost:8080/"
        },
        "id": "lQOELNok2n80",
        "outputId": "7f1cc942-a9f0-4c39-c758-b6b2e79f382c"
      },
      "execution_count": 3,
      "outputs": [
        {
          "output_type": "stream",
          "name": "stdout",
          "text": [
            "Training set size: 8000 rows\n",
            "Test set size: 2000 rows\n"
          ]
        }
      ]
    },
    {
      "cell_type": "markdown",
      "source": [
        "## **Preprocessing**"
      ],
      "metadata": {
        "id": "tWgTmnBI14-a"
      }
    },
    {
      "cell_type": "markdown",
      "source": [
        "### **Remove Outliers**"
      ],
      "metadata": {
        "id": "OfAJ7e9el09S"
      }
    },
    {
      "cell_type": "code",
      "source": [
        "def remove_outliers_auto_xy_with_output(x, y):\n",
        "    \"\"\"\n",
        "    Automatically detect and remove outliers from the training data (x, y) using the IQR method.\n",
        "    Removes rows from both x and y simultaneously when an outlier is detected in either x or y.\n",
        "\n",
        "    Parameters:\n",
        "        x (pd.DataFrame): Input feature DataFrame (training data)\n",
        "        y (pd.Series): Input target Series (labels)\n",
        "\n",
        "    Returns:\n",
        "        pd.DataFrame, pd.Series: Cleaned feature DataFrame and target Series with outliers removed\n",
        "    \"\"\"\n",
        "    initial_shape = x.shape\n",
        "    print(f\"🔹 Initial dataset size: {initial_shape[0]} rows, {initial_shape[1]} columns (x), {y.shape[0]} rows (y)\\n\")\n",
        "\n",
        "    # For numeric columns in x\n",
        "    numeric_cols_x = x.select_dtypes(include='number').columns\n",
        "    x_clean = x.copy()\n",
        "    y_clean = y.copy()\n",
        "\n",
        "    # Remove outliers from x\n",
        "    for col in numeric_cols_x:\n",
        "        Q1 = x[col].quantile(0.25)\n",
        "        Q3 = x[col].quantile(0.75)\n",
        "        IQR = Q3 - Q1\n",
        "        lower_bound = Q1 - 1.5 * IQR\n",
        "        upper_bound = Q3 + 1.5 * IQR\n",
        "\n",
        "        before = x_clean.shape[0]\n",
        "        mask = (x_clean[col] >= lower_bound) & (x_clean[col] <= upper_bound)\n",
        "\n",
        "        # Apply the same mask to both x and y\n",
        "        x_clean = x_clean[mask]\n",
        "        y_clean = y_clean[mask]\n",
        "\n",
        "        after = x_clean.shape[0]\n",
        "        removed = before - after\n",
        "\n",
        "        if removed > 0:\n",
        "            print(f\"🟠 Removed {removed} outliers from column '{col}' in x\")\n",
        "        else:\n",
        "            print(f\"✅ No outliers detected in column '{col}' in x\")\n",
        "\n",
        "    # For the target variable y\n",
        "    Q1_y = y_clean.quantile(0.25)\n",
        "    Q3_y = y_clean.quantile(0.75)\n",
        "    IQR_y = Q3_y - Q1_y\n",
        "    lower_bound_y = Q1_y - 1.5 * IQR_y\n",
        "    upper_bound_y = Q3_y + 1.5 * IQR_y\n",
        "\n",
        "    before_y = y_clean.shape[0]\n",
        "    y_mask = (y_clean >= lower_bound_y) & (y_clean <= upper_bound_y)\n",
        "\n",
        "    # Apply the same mask to both x and y\n",
        "    x_clean = x_clean[y_mask]\n",
        "    y_clean = y_clean[y_mask]\n",
        "\n",
        "    after_y = x_clean.shape[0]\n",
        "    removed_y = before_y - after_y\n",
        "\n",
        "    if removed_y > 0:\n",
        "        print(f\"🟠 Removed {removed_y} outliers from target variable y\")\n",
        "    else:\n",
        "        print(f\"✅ No outliers detected in target variable y\")\n",
        "\n",
        "    print(f\"\\n✅ Final dataset size: {x_clean.shape[0]} rows (removed {initial_shape[0] - x_clean.shape[0]} total rows)\")\n",
        "    return x_clean, y_clean\n",
        "\n",
        "# Example usage:\n",
        "X_train_clean, y_train_clean = remove_outliers_auto_xy_with_output(X_train, y_train)\n"
      ],
      "metadata": {
        "colab": {
          "base_uri": "https://localhost:8080/"
        },
        "id": "DnyNSg5nl1S9",
        "outputId": "e2181b5a-25d6-4f16-a695-d31cb15ba91c"
      },
      "execution_count": 4,
      "outputs": [
        {
          "output_type": "stream",
          "name": "stdout",
          "text": [
            "🔹 Initial dataset size: 8000 rows, 3 columns (x), 8000 rows (y)\n",
            "\n",
            "✅ No outliers detected in column 'x' in x\n",
            "✅ No outliers detected in column 'y' in x\n",
            "✅ No outliers detected in column 'z' in x\n",
            "🟠 Removed 603 outliers from target variable y\n",
            "\n",
            "✅ Final dataset size: 7397 rows (removed 603 total rows)\n"
          ]
        }
      ]
    },
    {
      "cell_type": "markdown",
      "source": [
        "### **Normalize Data**"
      ],
      "metadata": {
        "id": "5YmR6zxoEftY"
      }
    },
    {
      "cell_type": "code",
      "source": [
        "def normalize_data(X_train, X_test, y_train, y_test):\n",
        "    \"\"\"\n",
        "    This function normalizes the training and test features (X) and outputs (y).\n",
        "\n",
        "    Parameters:\n",
        "        X_train (numpy array): Training features\n",
        "        X_test (numpy array): Test features\n",
        "        y_train (numpy array): Training outputs\n",
        "        y_test (numpy array): Test outputs\n",
        "\n",
        "    Returns:\n",
        "        X_train_normalized (numpy array): Normalized training features\n",
        "        X_test_normalized (numpy array): Normalized test features\n",
        "        y_train_normalized (numpy array): Normalized training outputs\n",
        "        y_test_normalized (numpy array): Normalized test outputs\n",
        "        feature_scaler (dict): Feature normalization parameters (mean, std)\n",
        "        output_scaler (dict): Output normalization parameters (mean, std)\n",
        "    \"\"\"\n",
        "    # Step 1: Normalize features\n",
        "    feature_mean = np.mean(X_train, axis=0)  # Mean of each feature in X_train\n",
        "    feature_std = np.std(X_train, axis=0)    # Standard deviation of each feature in X_train\n",
        "    X_train_normalized = (X_train - feature_mean) / feature_std\n",
        "    X_test_normalized = (X_test - feature_mean) / feature_std\n",
        "\n",
        "    # Step 2: Normalize outputs\n",
        "    output_mean = np.mean(y_train)  # Mean of y_train\n",
        "    output_std = np.std(y_train)    # Standard deviation of y_train\n",
        "    y_train_normalized = (y_train - output_mean) / output_std\n",
        "    y_test_normalized = (y_test - output_mean) / output_std\n",
        "\n",
        "    # Store normalization parameters for later use (e.g., denormalization)\n",
        "    feature_scaler = {\"mean\": feature_mean, \"std\": feature_std}\n",
        "    output_scaler = {\"mean\": output_mean, \"std\": output_std}\n",
        "\n",
        "    return X_train_normalized, X_test_normalized, y_train_normalized, y_test_normalized, feature_scaler, output_scaler\n",
        "\n",
        "# Example usage\n",
        "# Assume you have the following datasets\n",
        "# X_train = np.array([\n",
        "#     [-2.5092, -2.52718, 4.59997],\n",
        "#     [9.01429, -3.34176, -6.30976],\n",
        "#     [4.63988, -6.47692, -3.06721],\n",
        "#     [1.97137, 2.14533, 3.26561],\n",
        "#     [-6.87963, -0.46752, -0.35821]\n",
        "# ])\n",
        "\n",
        "# X_test = np.array([\n",
        "#     [-6.88011, 7.31402, 4.77142],\n",
        "#     [-8.83833, -9.35781, 9.22416]\n",
        "# ])\n",
        "\n",
        "# y_train = np.array([100, 200, 300, 400, 500])\n",
        "# y_test = np.array([600, 700])\n",
        "\n",
        "# Normalize the data\n",
        "X_train_norm, X_test_norm, y_train_norm, y_test_norm, feature_scaler, output_scaler = normalize_data(X_train_clean, X_test, y_train_clean, y_test)\n",
        "\n",
        "# print(y_train_clean.head())\n",
        "# Display normalized data\n",
        "print(\"Normalized Training Features (X_train):\")\n",
        "print(X_train_norm.head())\n",
        "print(\"\\nNormalized Testing Features (X_test):\")\n",
        "print(X_test_norm.head())\n",
        "print(\"\\nNormalized Training Outputs (y_train):\")\n",
        "print(y_train_norm.head())\n",
        "print(\"\\nNormalized Testing Outputs (y_test):\")\n",
        "print(y_test_norm.head())\n",
        "\n",
        "# Denormalize outputs (example)\n",
        "def denormalize(data, scaler):\n",
        "    return data * scaler[\"std\"] + scaler[\"mean\"]\n",
        "\n",
        "# Example: Denormalize y_train_normalized\n",
        "y_train_denormalized = denormalize(y_train_norm, output_scaler)\n",
        "print(\"\\nDenormalized Training Outputs (y_train):\")\n",
        "print(y_train_denormalized.head())"
      ],
      "metadata": {
        "colab": {
          "base_uri": "https://localhost:8080/"
        },
        "id": "DHDX3OOLEf9g",
        "outputId": "1efacce2-d7bd-4d03-bdfc-f14f4be3d7cb"
      },
      "execution_count": 5,
      "outputs": [
        {
          "output_type": "stream",
          "name": "stdout",
          "text": [
            "Normalized Training Features (X_train):\n",
            "             x         y         z\n",
            "9254  1.010234 -1.254771  1.617384\n",
            "1561 -0.915031 -0.877572 -1.162636\n",
            "1670 -0.396696 -0.584460 -0.077917\n",
            "6087 -1.026385  1.302232  1.098537\n",
            "5933  1.793400 -1.683188  0.390292\n",
            "\n",
            "Normalized Testing Features (X_test):\n",
            "             x         y         z\n",
            "6252 -0.552270 -1.431263  1.687950\n",
            "4684  1.027148  1.013973 -1.091141\n",
            "1731  0.480483 -1.035976  1.761235\n",
            "4742 -1.640797  1.072328 -1.331246\n",
            "4521  0.311811  1.552574 -0.517810\n",
            "\n",
            "Normalized Training Outputs (y_train):\n",
            "9254    0.312019\n",
            "1561   -1.838754\n",
            "1670   -0.154669\n",
            "6087    1.032377\n",
            "5933   -1.259422\n",
            "Name: F(x, y, z), dtype: float64\n",
            "\n",
            "Normalized Testing Outputs (y_test):\n",
            "6252   -1.631598\n",
            "4684    0.934388\n",
            "1731    0.044508\n",
            "4742   -0.995126\n",
            "4521    0.791898\n",
            "Name: F(x, y, z), dtype: float64\n",
            "\n",
            "Denormalized Training Outputs (y_train):\n",
            "9254    154.530442\n",
            "1561   -701.158409\n",
            "1670    -31.142075\n",
            "6087    441.126098\n",
            "5933   -470.670206\n",
            "Name: F(x, y, z), dtype: float64\n"
          ]
        }
      ]
    },
    {
      "cell_type": "markdown",
      "source": [
        "## **Feature Engineering**"
      ],
      "metadata": {
        "id": "6KUU7Zjf37wB"
      }
    },
    {
      "cell_type": "code",
      "source": [
        "def feature_engineering(df):\n",
        "    \"\"\"\n",
        "    This function takes a DataFrame with columns x, y, z as inputs\n",
        "    and returns a feature matrix phi(x, y, z).\n",
        "\n",
        "    The DataFrame must contain the columns 'x', 'y', and 'z'.\n",
        "    \"\"\"\n",
        "    x = df['x']\n",
        "    y = df['y']\n",
        "    z = df['z']\n",
        "\n",
        "    # Compute all the required terms\n",
        "    phi = pd.DataFrame({\n",
        "        'bias': 1,\n",
        "        'x': x,\n",
        "        'x2': x**2,\n",
        "        'x3': x**3,\n",
        "        'y': y,\n",
        "        'y2': y**2,\n",
        "        'y3': y**3,\n",
        "        'z': z,\n",
        "        'z2': z**2,\n",
        "        'z3': z**3,\n",
        "        'xy': x * y,\n",
        "        'x2y': x**2 * y,\n",
        "        'xy2': x * y**2,\n",
        "        'xz': x * z,\n",
        "        'x2z': x**2 * z,\n",
        "        'xz2': x * z**2,\n",
        "        'yz': y * z,\n",
        "        'y2z': y**2 * z,\n",
        "        'yz2': y * z**2,\n",
        "        'xyz': x * y * z\n",
        "    })\n",
        "\n",
        "    return phi\n",
        "\n",
        "# Example usage:\n",
        "# Assuming X_train_norm and X_test_norm are DataFrames with columns 'x', 'y', 'z'\n",
        "X_train_vector = feature_engineering(X_train_norm)\n",
        "X_test_vector = feature_engineering(X_test_norm)\n",
        "\n",
        "print(\"Feature Vector (Train):\")\n",
        "print(X_train_vector.head())\n",
        "print(\"Feature Vector (Test):\")\n",
        "print(X_test_vector.head())"
      ],
      "metadata": {
        "colab": {
          "base_uri": "https://localhost:8080/"
        },
        "id": "2DxOfDji4ADD",
        "outputId": "30106bf1-9815-458b-c2ee-6e26ba99892d"
      },
      "execution_count": 6,
      "outputs": [
        {
          "output_type": "stream",
          "name": "stdout",
          "text": [
            "Feature Vector (Train):\n",
            "      bias         x        x2        x3         y        y2        y3  \\\n",
            "9254     1  1.010234  1.020574  1.031019 -1.254771  1.574450 -1.975574   \n",
            "1561     1 -0.915031  0.837282 -0.766139 -0.877572  0.770132 -0.675846   \n",
            "1670     1 -0.396696  0.157367 -0.062427 -0.584460  0.341593 -0.199648   \n",
            "6087     1 -1.026385  1.053467 -1.081262  1.302232  1.695809  2.208338   \n",
            "5933     1  1.793400  3.216284  5.768084 -1.683188  2.833122 -4.768676   \n",
            "\n",
            "             z        z2        z3        xy       x2y       xy2        xz  \\\n",
            "9254  1.617384  2.615930  4.230964 -1.267613 -1.280586  1.590564  1.633937   \n",
            "1561 -1.162636  1.351724 -1.571563  0.803005 -0.734775 -0.704695  1.063849   \n",
            "1670 -0.077917  0.006071 -0.000473  0.231853 -0.091975 -0.135509  0.030909   \n",
            "6087  1.098537  1.206782  1.325695 -1.336592  1.371858 -1.740553 -1.127522   \n",
            "5933  0.390292  0.152328  0.059452 -3.018629 -5.413611  5.080921  0.699950   \n",
            "\n",
            "           x2z       xz2        yz       y2z       yz2       xyz  \n",
            "9254  1.650659  2.642703 -2.029446  2.546490 -3.282393 -2.050216  \n",
            "1561 -0.973455 -1.236869  1.020297 -0.895383 -1.186234 -0.933603  \n",
            "1670 -0.012262 -0.002408  0.045539 -0.026616 -0.003548 -0.018065  \n",
            "6087  1.157271 -1.238624  1.430550  1.862908  1.571511 -1.468295  \n",
            "5933  1.255291  0.273185 -0.656935  1.105745 -0.256397 -1.178148  \n",
            "Feature Vector (Test):\n",
            "      bias         x        x2        x3         y        y2        y3  \\\n",
            "6252     1 -0.552270  0.305002 -0.168443 -1.431263  2.048514 -2.931963   \n",
            "4684     1  1.027148  1.055033  1.083676  1.013973  1.028141  1.042508   \n",
            "1731     1  0.480483  0.230864  0.110926 -1.035976  1.073246 -1.111856   \n",
            "4742     1 -1.640797  2.692214 -4.417375  1.072328  1.149887  1.233056   \n",
            "4521     1  0.311811  0.097226  0.030316  1.552574  2.410485  3.742455   \n",
            "\n",
            "             z        z2        z3        xy       x2y       xy2        xz  \\\n",
            "6252  1.687950  2.849174  4.809263  0.790444 -0.436538 -1.131333 -0.932204   \n",
            "4684 -1.091141  1.190589 -1.299101  1.041501  1.069775  1.056053 -1.120764   \n",
            "1731  1.761235  3.101950  5.463265 -0.497769 -0.239170  0.515676  0.846244   \n",
            "4742 -1.331246  1.772216 -2.359256 -1.759472  2.886936 -1.886731  2.184304   \n",
            "4521 -0.517810  0.268127 -0.138839  0.484109  0.150951  0.751615 -0.161459   \n",
            "\n",
            "           x2z       xz2        yz       y2z       yz2       xyz  \n",
            "6252  0.514828 -1.573513 -2.415900  3.457789 -4.077918  1.334229  \n",
            "4684 -1.151190  1.222912 -1.106388 -1.121847  1.207225 -1.136424  \n",
            "1731  0.406606  1.490435 -1.824597  1.890238 -3.213545 -0.876688  \n",
            "4742 -3.583999 -2.907846 -1.427532 -1.530783  1.900397  2.342290  \n",
            "4521 -0.050345  0.083605 -0.803938 -1.248173  0.416287 -0.250677  \n"
          ]
        }
      ]
    }
  ]
}